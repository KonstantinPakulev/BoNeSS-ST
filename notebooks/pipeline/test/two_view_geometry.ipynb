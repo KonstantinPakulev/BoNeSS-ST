{
 "cells": [
  {
   "cell_type": "code",
   "execution_count": 1,
   "metadata": {},
   "outputs": [],
   "source": [
    "from notebooks.__init__ import *\n",
    "%load_ext autoreload\n",
    "%autoreload 2"
   ]
  },
  {
   "cell_type": "markdown",
   "metadata": {},
   "source": [
    "# Load a config"
   ]
  },
  {
   "cell_type": "code",
   "execution_count": 5,
   "metadata": {},
   "outputs": [],
   "source": [
    "# method_overrides = [\"+method/detector=sift\",\n",
    "#                     \"+method/descriptor=disk\",\n",
    "#                     \"+test.evaluation.ratio_test_thr=0.99\",\n",
    "#                     \"+test.evaluation.estimator.inlier_thr=0.7\"]\n",
    "# method_overrides = [\"+method/detector=superpoint\",\n",
    "#                     \"+method/descriptor=disk\",\n",
    "#                     \"+test.evaluation.ratio_test_thr=0.98\",\n",
    "#                     \"+test.evaluation.estimator.inlier_thr=1.0\"]\n",
    "# method_overrides = [\"+method/detector=r2d2\",\n",
    "#                     \"+method/descriptor=disk\",\n",
    "#                     \"+test.evaluation.ratio_test_thr=0.99\",\n",
    "#                     \"+test.evaluation.estimator.inlier_thr=1.0\"]\n",
    "# method_overrides = [\"+method/detector=keynet\",\n",
    "#                     \"+method/descriptor=disk\",\n",
    "#                     \"+test.evaluation.ratio_test_thr=1.0\",\n",
    "#                     \"+test.evaluation.estimator.inlier_thr=1.2\"]\n",
    "# method_overrides = [\"+method/end_to_end=disk\", \n",
    "#                     \"+test.evaluation.ratio_test_thr=0.98\", \n",
    "#                     \"+test.evaluation.estimator.inlier_thr=0.9\"]\n",
    "# method_overrides = [\"+method/detector=rekd\",\n",
    "#                     \"+method/descriptor=disk\",\n",
    "#                     \"+test.evaluation.ratio_test_thr=0.98\",\n",
    "#                     \"+test.evaluation.estimator.inlier_thr=1.4\"]\n",
    "# method_overrides = [\"+method/detector=shi_tomasi\",\n",
    "#                     \"+method/descriptor=disk\",\n",
    "#                     \"+test.evaluation.ratio_test_thr=0.99\",\n",
    "#                     \"+test.evaluation.estimator.inlier_thr=0.7\"]\n",
    "# method_overrides = [\"+method/detector=ness_st/reference\",\n",
    "#                     \"+method/descriptor=disk\",\n",
    "#                     \"+test.evaluation.ratio_test_thr=0.98\",\n",
    "#                     \"+test.evaluation.estimator.inlier_thr=0.7\"]\n",
    "method_overrides = [\"+method/detector=boness_st/reference\",\n",
    "                    \"+method/descriptor=disk\", \n",
    "                    \"+test.evaluation.ratio_test_thr=0.99\", \n",
    "                    \"+test.evaluation.estimator.inlier_thr=0.7\"]\n",
    "\n",
    "# method_overrides = [\"+method/detector=superpoint\",\n",
    "#                     \"+method/descriptor=hardnet\",\n",
    "#                     \"+test.evaluation.ratio_test_thr=0.93\",\n",
    "#                     \"+test.evaluation.estimator.inlier_thr=2.8\"]\n",
    "# method_overrides = [\"+method/detector=rekd\",\n",
    "#                     \"+method/descriptor=hardnet\",\n",
    "#                     \"+test.evaluation.ratio_test_thr=0.91\",\n",
    "#                     \"+test.evaluation.estimator.inlier_thr=2.4\"]\n",
    "# method_overrides = [\"+method/detector=boness_st/reference\",\n",
    "#                     \"+method/descriptor=hardnet\",\n",
    "#                     \"+test.evaluation.ratio_test_thr=0.92\",\n",
    "#                     \"+test.evaluation.estimator.inlier_thr=2.4\"]\n",
    "\n",
    "dataset_overrides = [\"+test/dataset=imc_pt\", \n",
    "                     \"+test/evaluation=two_view_geometry/fundamental_matrix\"]\n",
    "# dataset_overrides = [\"+test/dataset=megadepth\", \n",
    "#                      \"+test/evaluation=two_view_geometry/fundamental_matrix\"]\n",
    "# dataset_overrides = [\"+test/dataset=heb\", \n",
    "#                      \"+test/evaluation=two_view_geometry/homography\"]\n",
    "# dataset_overrides = [\"+test/dataset=scannet\",\n",
    "                    #  \"+test/evaluation=two_view_geometry/essential_matrix\"]"
   ]
  },
  {
   "cell_type": "code",
   "execution_count": 18,
   "metadata": {},
   "outputs": [
    {
     "name": "stdout",
     "output_type": "stream",
     "text": [
      "\n",
      "\n",
      "Configuration file:\n",
      "------------------------------------------------------------------------------------------\n",
      "method:\n",
      "  detector:\n",
      "    name: boness_st\n",
      "    checkpoint_url: file:///home/konstantin/personal/Summertime/weights/reference_model_epoch=15-avg_mAA=0.7263.ckpt\n",
      "    model:\n",
      "      input_channels: 3\n",
      "      down:\n",
      "      - 16\n",
      "      - 32\n",
      "      - 64\n",
      "      - 64\n",
      "      - 64\n",
      "      up:\n",
      "      - 64\n",
      "      - 64\n",
      "      - 64\n",
      "      - 1\n",
      "    base_detector:\n",
      "      name: shi_tomasi\n",
      "      sobel_size: 3\n",
      "      window_size: 3\n",
      "      window_cov: 2\n",
      "      nms_size: 5\n",
      "      localize: true\n",
      "      score_thresh: 0.0\n",
      "  descriptor:\n",
      "    name: disk\n",
      "    checkpoint_url: file:///home/konstantin/personal/Summertime/source/baselines/disk/disk/depth-save.pth\n",
      "test:\n",
      "  dataset:\n",
      "    name: IMC-PT\n",
      "    root_path: /mnt/sda/datasets/IMCPT\n",
      "    csv_rel_path: test.csv\n",
      "    pairs_csv_rel_path: test_pairs.csv\n",
      "    loader:\n",
      "      num_workers: 2\n",
      "      num_samples: 8\n",
      "    pairs_loader:\n",
      "      batch_size: 2\n",
      "      num_workers: 0\n",
      "      num_samples: 4\n",
      "  evaluation:\n",
      "    task: two_view_geometry\n",
      "    'n': 2048\n",
      "    feature_dir_path: /home/konstantin/personal/features\n",
      "    only_features: false\n",
      "    only_task: false\n",
      "    clean_up_features: true\n",
      "    parallelize: false\n",
      "    estimator:\n",
      "      name: f_pydegensac\n",
      "      confidence: 0.9999\n",
      "      num_ransac_iter: 200000\n",
      "      min_num_matches: 8\n",
      "      inlier_thr: 0.7\n",
      "    max_r_err_thr: 10\n",
      "    max_t_err_thr: 10\n",
      "    ratio_test_thr: 0.99\n",
      "  experiment:\n",
      "    accelerator: gpu\n",
      "    devices: 1\n",
      "mock: true\n",
      "\n",
      "------------------------------------------------------------------------------------------\n"
     ]
    }
   ],
   "source": [
    "with initialize_config_dir(config_dir='/home/konstantin/personal/Summertime/config', version_base='1.1'):\n",
    "    cfg = compose(overrides=method_overrides + dataset_overrides + [        \n",
    "        \"test.dataset.pairs_loader.num_workers=0\",\n",
    "        \"test.evaluation.parallelize=False\",\n",
    "        \"+test/experiment=default\",\n",
    "        \"+mock=True\"\n",
    "    ])\n",
    "\n",
    "    OmegaConf.set_struct(cfg, False)\n",
    "    \n",
    "    cfg_wrapper = HydraConfigWrapper(cfg)\n",
    "\n",
    "    cfg_wrapper.print()\n",
    "    "
   ]
  },
  {
   "cell_type": "markdown",
   "metadata": {},
   "source": [
    "# Instantiate a test task"
   ]
  },
  {
   "cell_type": "code",
   "execution_count": 35,
   "metadata": {},
   "outputs": [
    {
     "name": "stdout",
     "output_type": "stream",
     "text": [
      "Loaded checkpoint for boness_st\n",
      "Loaded checkpoint for disk\n"
     ]
    },
    {
     "name": "stderr",
     "output_type": "stream",
     "text": [
      "/home/konstantin/personal/Summertime/source/utils/method.py:41: FutureWarning: You are using `torch.load` with `weights_only=False` (the current default value), which uses the default pickle module implicitly. It is possible to construct malicious pickle data which will execute arbitrary code during unpickling (See https://github.com/pytorch/pytorch/blob/main/SECURITY.md#untrusted-models for more details). In a future release, the default value for `weights_only` will be flipped to `True`. This limits the functions that could be executed during unpickling. Arbitrary objects will no longer be allowed to be loaded via this mode unless they are explicitly allowlisted by the user via `torch.serialization.add_safe_globals`. We recommend you start setting `weights_only=True` for any use case where you don't have full control of the loaded file. Please open an issue on GitHub for any issues related to this experimental feature.\n",
      "  ckpt = torch.load(input_model.get_weights(), map_location='cpu')\n",
      "/home/konstantin/personal/Summertime/source/utils/method.py:65: FutureWarning: You are using `torch.load` with `weights_only=False` (the current default value), which uses the default pickle module implicitly. It is possible to construct malicious pickle data which will execute arbitrary code during unpickling (See https://github.com/pytorch/pytorch/blob/main/SECURITY.md#untrusted-models for more details). In a future release, the default value for `weights_only` will be flipped to `True`. This limits the functions that could be executed during unpickling. Arbitrary objects will no longer be allowed to be loaded via this mode unless they are explicitly allowlisted by the user via `torch.serialization.add_safe_globals`. We recommend you start setting `weights_only=True` for any use case where you don't have full control of the loaded file. Please open an issue on GitHub for any issues related to this experimental feature.\n",
      "  ckpt = torch.load(input_model.get_weights(), map_location='cpu')\n"
     ]
    }
   ],
   "source": [
    "from source.test_task import TestTask\n",
    "\n",
    "feature_dir_path = Path(\"/home/konstantin/personal/features/notebooks\")\n",
    "test_task = TestTask.from_config(cfg, None, feature_dir_path)\n",
    "\n",
    "if cfg.test.experiment.accelerator == 'gpu':\n",
    "    test_task.to(torch.device('cuda'))"
   ]
  },
  {
   "cell_type": "markdown",
   "metadata": {},
   "source": [
    "# Instantiate a dataset and get loaders"
   ]
  },
  {
   "cell_type": "code",
   "execution_count": 36,
   "metadata": {},
   "outputs": [],
   "source": [
    "data_module = DataModule(test_dataset_cfg=cfg.test.dataset, \n",
    "                         evaluation_cfg=cfg.test.evaluation,\n",
    "                         feature_dir_path=test_task.feature_dir_path)\n",
    "data_module.setup(stage='test')"
   ]
  },
  {
   "cell_type": "code",
   "execution_count": 37,
   "metadata": {},
   "outputs": [],
   "source": [
    "image_loader, feature_loader = data_module.test_dataloader()"
   ]
  },
  {
   "cell_type": "markdown",
   "metadata": {},
   "source": [
    "# Compute features and calculate metrics"
   ]
  },
  {
   "cell_type": "code",
   "execution_count": 38,
   "metadata": {},
   "outputs": [],
   "source": [
    "test_task.on_test_epoch_start()"
   ]
  },
  {
   "cell_type": "code",
   "execution_count": 39,
   "metadata": {},
   "outputs": [
    {
     "name": "stderr",
     "output_type": "stream",
     "text": [
      "/opt/conda/lib/python3.11/site-packages/torch/nn/functional.py:4373: UserWarning: Default grid_sample and affine_grid behavior has changed to align_corners=False since 1.3.0. Please specify align_corners=True if the old behavior is desired. See the documentation of grid_sample for details.\n",
      "  warnings.warn(\n"
     ]
    }
   ],
   "source": [
    "with torch.no_grad():\n",
    "    if test_task.detector is not None:\n",
    "        test_task.detector.eval()\n",
    "\n",
    "    if test_task.descriptor is not None:\n",
    "        test_task.descriptor.eval()\n",
    "        \n",
    "    if test_task.end_to_end is not None:\n",
    "        test_task.end_to_end.eval()\n",
    "\n",
    "    for i, batch in enumerate(image_loader):\n",
    "        if cfg.test.experiment.accelerator == 'gpu':\n",
    "            for k in batch.keys():\n",
    "                if isinstance(batch[k], torch.Tensor):\n",
    "                    batch[k] = batch[k].to(torch.device('cuda'))\n",
    "        \n",
    "        test_task.test_step(batch, i, 0)"
   ]
  },
  {
   "cell_type": "code",
   "execution_count": 40,
   "metadata": {},
   "outputs": [],
   "source": [
    "results_list = []\n",
    "\n",
    "for i, batch in enumerate(feature_loader):\n",
    "    test_task.test_step(batch, i, 1)\n",
    "\n",
    "results = np.concatenate(test_task.test_step_outputs, axis=0)"
   ]
  },
  {
   "cell_type": "code",
   "execution_count": 41,
   "metadata": {},
   "outputs": [
    {
     "data": {
      "text/plain": [
       "(4, 7)"
      ]
     },
     "execution_count": 41,
     "metadata": {},
     "output_type": "execute_result"
    }
   ],
   "source": [
    "results.shape"
   ]
  },
  {
   "cell_type": "code",
   "execution_count": 42,
   "metadata": {},
   "outputs": [
    {
     "name": "stdout",
     "output_type": "stream",
     "text": [
      "R mAA: 0.75\n",
      "t mAA: 0.225\n"
     ]
    }
   ],
   "source": [
    "r_mAA = relative_pose_accuracy(results[:, 3].astype(np.float32), cfg.test.evaluation.max_r_err_thr).mean()\n",
    "t_mAA = relative_pose_accuracy(results[:, 4].astype(np.float32), cfg.test.evaluation.max_t_err_thr).mean()\n",
    "\n",
    "print(\"R mAA:\", r_mAA)\n",
    "print(\"t mAA:\", t_mAA)"
   ]
  },
  {
   "cell_type": "code",
   "execution_count": 43,
   "metadata": {},
   "outputs": [],
   "source": [
    "import shutil\n",
    "\n",
    "shutil.rmtree(test_task.feature_dir_path)"
   ]
  },
  {
   "cell_type": "code",
   "execution_count": null,
   "metadata": {},
   "outputs": [],
   "source": []
  }
 ],
 "metadata": {
  "kernelspec": {
   "display_name": "base",
   "language": "python",
   "name": "python3"
  },
  "language_info": {
   "codemirror_mode": {
    "name": "ipython",
    "version": 3
   },
   "file_extension": ".py",
   "mimetype": "text/x-python",
   "name": "python",
   "nbconvert_exporter": "python",
   "pygments_lexer": "ipython3",
   "version": "3.11.9"
  }
 },
 "nbformat": 4,
 "nbformat_minor": 2
}
