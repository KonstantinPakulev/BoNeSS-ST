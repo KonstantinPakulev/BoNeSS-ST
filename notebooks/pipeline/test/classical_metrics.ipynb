{
 "cells": [
  {
   "cell_type": "code",
   "execution_count": 1,
   "metadata": {},
   "outputs": [],
   "source": [
    "from notebooks.__init__ import *\n",
    "%load_ext autoreload\n",
    "%autoreload 2"
   ]
  },
  {
   "cell_type": "markdown",
   "metadata": {},
   "source": [
    "# Load a config"
   ]
  },
  {
   "cell_type": "code",
   "execution_count": 2,
   "metadata": {},
   "outputs": [],
   "source": [
    "# method_overrides = [\"+method/end_to_end=disk\"]\n",
    "method_overrides = [\"+method/detector=boness_st/default\", \n",
    "                    \"+method/descriptor=disk\"]\n",
    "# method_overrides = [\"+method/detector=superpoint\",\n",
    "#                     \"+method/descriptor=disk\"]"
   ]
  },
  {
   "cell_type": "code",
   "execution_count": 3,
   "metadata": {},
   "outputs": [
    {
     "name": "stdout",
     "output_type": "stream",
     "text": [
      "\n",
      "\n",
      "Configuration file:\n",
      "------------------------------------------------------------------------------------------\n",
      "method:\n",
      "  detector:\n",
      "    name: boness_st\n",
      "    model:\n",
      "      input_channels: 3\n",
      "      down:\n",
      "      - 16\n",
      "      - 32\n",
      "      - 64\n",
      "      - 64\n",
      "      - 64\n",
      "      up:\n",
      "      - 64\n",
      "      - 64\n",
      "      - 64\n",
      "      - 1\n",
      "    base_detector:\n",
      "      name: shi_tomasi\n",
      "      sobel_size: 3\n",
      "      window_size: 3\n",
      "      window_cov: 2\n",
      "      nms_size: 5\n",
      "      localize: true\n",
      "      score_thresh: 0.0\n",
      "  descriptor:\n",
      "    name: disk\n",
      "    checkpoint_url: file:///home/konstantin/personal/Summertime/source/baselines/disk/disk/depth-save.pth\n",
      "test:\n",
      "  dataset:\n",
      "    name: HPatches\n",
      "    root_path: /mnt/sda/datasets/HPatches\n",
      "    csv_rel_path: test.csv\n",
      "    pairs_csv_rel_path: test_pairs.csv\n",
      "    loader:\n",
      "      num_workers: 2\n",
      "      num_samples: 8\n",
      "    pairs_loader:\n",
      "      batch_size: 2\n",
      "      num_workers: 8\n",
      "      num_samples: 4\n",
      "  evaluation:\n",
      "    task: classical_metrics\n",
      "    'n': 2048\n",
      "    feature_dir_path: /home/konstantin/personal/features\n",
      "    only_features: false\n",
      "    only_task: false\n",
      "    clean_up_features: true\n",
      "    max_px_err_thr: 10\n",
      "  experiment:\n",
      "    accelerator: gpu\n",
      "    devices: 1\n",
      "mock: true\n",
      "\n",
      "------------------------------------------------------------------------------------------\n"
     ]
    }
   ],
   "source": [
    "with initialize_config_dir(config_dir='/home/konstantin/personal/Summertime/config', version_base='1.1'):\n",
    "    cfg = compose(overrides=method_overrides + [\n",
    "        \"+test/dataset=hpatches\",\n",
    "        \"+test/evaluation=classical_metrics\",\n",
    "        \"+test/experiment=default\",\n",
    "        \"+mock=True\"\n",
    "    ])\n",
    "\n",
    "    OmegaConf.set_struct(cfg, False)\n",
    "\n",
    "    cfg_wrapper = HydraConfigWrapper(cfg)\n",
    "\n",
    "    cfg_wrapper.print()\n",
    "    "
   ]
  },
  {
   "cell_type": "markdown",
   "metadata": {},
   "source": [
    "# Instantiate a test task"
   ]
  },
  {
   "cell_type": "code",
   "execution_count": 5,
   "metadata": {},
   "outputs": [
    {
     "name": "stdout",
     "output_type": "stream",
     "text": [
      "Loaded checkpoint for disk\n"
     ]
    }
   ],
   "source": [
    "from source.test_task import TestTask\n",
    "\n",
    "feature_dir_path = Path(\"/home/konstantin/personal/features/notebooks\")\n",
    "test_task = TestTask.from_config(cfg, None, feature_dir_path)\n",
    "\n",
    "if cfg.test.experiment.accelerator == 'gpu':\n",
    "    test_task.to(torch.device('cuda'))"
   ]
  },
  {
   "cell_type": "markdown",
   "metadata": {},
   "source": [
    "# Instantiate a dataset and get loaders"
   ]
  },
  {
   "cell_type": "code",
   "execution_count": 6,
   "metadata": {},
   "outputs": [],
   "source": [
    "data_module = DataModule(test_dataset_cfg=cfg.test.dataset, \n",
    "                         evaluation_cfg=cfg.test.evaluation,\n",
    "                         feature_dir_path=test_task.feature_dir_path)\n",
    "data_module.setup(stage='test')"
   ]
  },
  {
   "cell_type": "code",
   "execution_count": 7,
   "metadata": {},
   "outputs": [],
   "source": [
    "image_loader, feature_loader = data_module.test_dataloader()"
   ]
  },
  {
   "cell_type": "markdown",
   "metadata": {},
   "source": [
    "# Compute features and calculate metrics"
   ]
  },
  {
   "cell_type": "code",
   "execution_count": 8,
   "metadata": {},
   "outputs": [],
   "source": [
    "test_task.on_test_epoch_start()"
   ]
  },
  {
   "cell_type": "code",
   "execution_count": 9,
   "metadata": {},
   "outputs": [
    {
     "name": "stderr",
     "output_type": "stream",
     "text": [
      "/opt/conda/lib/python3.11/site-packages/torch/functional.py:513: UserWarning: torch.meshgrid: in an upcoming release, it will be required to pass the indexing argument. (Triggered internally at ../aten/src/ATen/native/TensorShape.cpp:3609.)\n",
      "  return _VF.meshgrid(tensors, **kwargs)  # type: ignore[attr-defined]\n",
      "/opt/conda/lib/python3.11/site-packages/torch/nn/functional.py:4373: UserWarning: Default grid_sample and affine_grid behavior has changed to align_corners=False since 1.3.0. Please specify align_corners=True if the old behavior is desired. See the documentation of grid_sample for details.\n",
      "  warnings.warn(\n"
     ]
    }
   ],
   "source": [
    "with torch.no_grad():\n",
    "    if test_task.detector is not None:\n",
    "        test_task.detector.eval()\n",
    "\n",
    "    if test_task.descriptor is not None:\n",
    "        test_task.descriptor.eval()\n",
    "        \n",
    "    if test_task.end_to_end is not None:\n",
    "        test_task.end_to_end.eval()\n",
    "\n",
    "    for i, batch in enumerate(image_loader):\n",
    "        if cfg.test.experiment.accelerator == 'gpu':\n",
    "            for k in batch.keys():\n",
    "                if isinstance(batch[k], torch.Tensor):\n",
    "                    batch[k] = batch[k].to(torch.device('cuda'))\n",
    "        \n",
    "        test_task.test_step(batch, i, 0)"
   ]
  },
  {
   "cell_type": "code",
   "execution_count": null,
   "metadata": {},
   "outputs": [],
   "source": [
    "results_list = []\n",
    "\n",
    "for i, batch in enumerate(feature_loader):\n",
    "    test_task.test_step(batch, i, 1)\n",
    "\n",
    "results = np.concatenate(test_task.test_step_outputs, axis=0)"
   ]
  },
  {
   "cell_type": "code",
   "execution_count": 14,
   "metadata": {},
   "outputs": [
    {
     "name": "stdout",
     "output_type": "stream",
     "text": [
      "Repeatability:  [0.10519426 0.21751387 0.30479237 0.3694466  0.4278297  0.4663459\n",
      " 0.4907268  0.5051263  0.5143215  0.52120703]\n",
      "Mean matching accuracy:  [0.30874723 0.5044017  0.56879395 0.59358555 0.61104554 0.6312906\n",
      " 0.65241814 0.6670246  0.6764157  0.6884844 ]\n"
     ]
    }
   ],
   "source": [
    "rep = results[:, 3:13].astype(np.float32).mean(axis=0)\n",
    "mma = results[:, 13:].astype(np.float32).mean(axis=0)\n",
    "\n",
    "print(\"Repeatability: \", rep)\n",
    "print(\"Mean matching accuracy: \", mma)"
   ]
  },
  {
   "cell_type": "code",
   "execution_count": 15,
   "metadata": {},
   "outputs": [],
   "source": [
    "import shutil\n",
    "\n",
    "shutil.rmtree(test_task.feature_dir_path)"
   ]
  },
  {
   "cell_type": "code",
   "execution_count": null,
   "metadata": {},
   "outputs": [],
   "source": []
  }
 ],
 "metadata": {
  "kernelspec": {
   "display_name": "base",
   "language": "python",
   "name": "python3"
  },
  "language_info": {
   "codemirror_mode": {
    "name": "ipython",
    "version": 3
   },
   "file_extension": ".py",
   "mimetype": "text/x-python",
   "name": "python",
   "nbconvert_exporter": "python",
   "pygments_lexer": "ipython3",
   "version": "3.11.9"
  }
 },
 "nbformat": 4,
 "nbformat_minor": 2
}
